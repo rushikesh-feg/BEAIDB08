{
 "cells": [
  {
   "cell_type": "code",
   "execution_count": 1,
   "id": "2ceeb64a-9215-4f21-8608-d2daaaf76ee9",
   "metadata": {},
   "outputs": [],
   "source": [
    "import pandas as pd\n",
    "import numpy as np\n",
    "import matplotlib.pyplot as plt\n",
    "from sklearn.decomposition import PCA\n",
    "from sklearn.cluster import AgglomerativeClustering\n",
    "from sklearn.preprocessing import StandardScaler, normalize\n",
    "from sklearn.metrics import silhouette_score\n",
    "import scipy.cluster.hierarchy as shc"
   ]
  },
  {
   "cell_type": "code",
   "execution_count": null,
   "id": "508ac44f-291d-4dd9-a6f3-63873af47e97",
   "metadata": {},
   "outputs": [],
   "source": [
    "X = pd.read_csv('./datasets/CC_GENERAL.csv')"
   ]
  },
  {
   "cell_type": "code",
   "execution_count": null,
   "id": "395a3833-975b-4327-b22b-a1ba01569410",
   "metadata": {},
   "outputs": [],
   "source": [
    "\n",
    "# Dropping the CUST_ID column from the data\n",
    "X = X.drop('CUST_ID', axis = 1)"
   ]
  },
  {
   "cell_type": "code",
   "execution_count": null,
   "id": "f01bddaa-1063-4992-bc5b-679b924e17aa",
   "metadata": {},
   "outputs": [],
   "source": [
    "\n",
    "# Handling the missing values\n",
    "X.fillna(method ='ffill', inplace = True)"
   ]
  },
  {
   "cell_type": "code",
   "execution_count": null,
   "id": "f3167000-b84e-4ca1-b7c7-b119a59eaec0",
   "metadata": {},
   "outputs": [],
   "source": [
    "\n",
    "# Scaling the data so that all the features become comparable\n",
    "scaler = StandardScaler()\n",
    "X_scaled = scaler.fit_transform(X)"
   ]
  },
  {
   "cell_type": "code",
   "execution_count": null,
   "id": "2860f96c-89ae-4520-a47a-a6e0b2ece757",
   "metadata": {},
   "outputs": [],
   "source": [
    "\n",
    "# Normalizing the data so that the data approximately follows a Gaussian distribution\n",
    "X_normalized = normalize(X_scaled)"
   ]
  },
  {
   "cell_type": "code",
   "execution_count": null,
   "id": "a53cc928-c1d9-444d-b07d-d95d0c49abc3",
   "metadata": {},
   "outputs": [],
   "source": [
    "\n",
    "# Converting the numpy array into a pandas\n",
    "DataFrameX_normalized = pd.DataFrame(X_normalized)"
   ]
  },
  {
   "cell_type": "code",
   "execution_count": null,
   "id": "b2f378e5-7267-47dc-afb2-6667e3a95e94",
   "metadata": {},
   "outputs": [],
   "source": [
    "# Reducing the dimensionality of the Data\n",
    "pca = PCA(n_components = 2)\n",
    "X_principal = pca.fit_transform(X_normalized)\n",
    "X_principal = pd.DataFrame(X_principal) \n",
    "X_principal.columns = ['P1', 'P2']\n"
   ]
  },
  {
   "cell_type": "code",
   "execution_count": null,
   "id": "67d363dc-3e4c-4368-ba87-c98b0766e4d2",
   "metadata": {},
   "outputs": [],
   "source": [
    "\n",
    "# Visualizing theworking of the Dendrograms\n",
    "# Dendrograms are used to divide a given clusterinto many different clusters\n",
    "plt.figure(figsize =(8, 8))\n",
    "plt.title('Visualising the data')\n",
    "Dendrogram = shc.dendrogram((shc.linkage(X_principal, method ='ward')))"
   ]
  },
  {
   "cell_type": "code",
   "execution_count": null,
   "id": "16313306-3eb5-45cf-a8c0-49bf3ff65f43",
   "metadata": {},
   "outputs": [],
   "source": [
    "# Building and Visualizing the different clustering models for different values of k\n",
    "# k = 2\n",
    "ac2 = AgglomerativeClustering(n_clusters = 2)\n",
    "plt.figure(figsize =(6, 6))\n",
    "plt.scatter(X_principal['P1'], X_principal['P2'],\n",
    "c = ac2.fit_predict(X_principal), cmap ='rainbow')\n",
    "plt.show()"
   ]
  },
  {
   "cell_type": "code",
   "execution_count": null,
   "id": "3c36bbc6-96ac-490d-bbd9-8416d51f29dd",
   "metadata": {},
   "outputs": [],
   "source": [
    "# k = 3\n",
    "ac3 = AgglomerativeClustering(n_clusters = 3)\n",
    "plt.figure(figsize =(6, 6))\n",
    "plt.scatter(X_principal['P1'],\n",
    "X_principal['P2'],\n",
    "c = ac3.fit_predict(X_principal), cmap ='rainbow')\n",
    "plt.show()"
   ]
  },
  {
   "cell_type": "code",
   "execution_count": null,
   "id": "f8a3a821-34ce-41b6-9c51-5bc7a2b01705",
   "metadata": {},
   "outputs": [],
   "source": [
    "# k = 4\n",
    "ac4 = AgglomerativeClustering(n_clusters = 4)\n",
    "plt.figure(figsize =(6, 6))\n",
    "plt.scatter(X_principal['P1'],\n",
    "X_principal['P2'],\n",
    "c = ac4.fit_predict(X_principal), cmap ='rainbow')\n",
    "plt.show()"
   ]
  },
  {
   "cell_type": "code",
   "execution_count": null,
   "id": "8402461a-533e-4a1e-a908-e9f36d35c3cd",
   "metadata": {},
   "outputs": [],
   "source": [
    "# k = 5\n",
    "ac5 = AgglomerativeClustering(n_clusters = 5)\n",
    "plt.figure(figsize =(6, 6))\n",
    "plt.scatter(X_principal['P1'],\n",
    "X_principal['P2'],\n",
    "c = ac5.fit_predict(X_principal), cmap ='rainbow')\n",
    "plt.show()"
   ]
  },
  {
   "cell_type": "code",
   "execution_count": null,
   "id": "38da1cfb-0388-4b20-9f57-fec2221ce60e",
   "metadata": {},
   "outputs": [],
   "source": [
    "\n",
    "# k = 6\n",
    "ac6 = AgglomerativeClustering(n_clusters = 6)\n",
    "plt.figure(figsize =(6, 6))\n",
    "plt.scatter(X_principal['P1'],\n",
    "X_principal['P2'],\n",
    "c = ac6.fit_predict(X_principal), cmap ='rainbow')\n",
    "plt.show()"
   ]
  },
  {
   "cell_type": "code",
   "execution_count": null,
   "id": "8da29db3-7a4d-4e0a-98eb-d2839c36caf6",
   "metadata": {},
   "outputs": [],
   "source": [
    "# Evaluating the different models and Visualizing the results.\n",
    "k = [2, 3, 4, 5, 6]"
   ]
  },
  {
   "cell_type": "code",
   "execution_count": null,
   "id": "d74ff4ff-998e-45e6-b8ff-277afa186488",
   "metadata": {},
   "outputs": [],
   "source": [
    "# Appending the silhouette scores of the different models to the list\n",
    "silhouette_scores = []\n",
    "silhouette_scores.append(silhouette_score(X_principal, ac2.fit_predict(X_principal)))\n",
    "silhouette_scores.append(silhouette_score(X_principal, ac3.fit_predict(X_principal)))\n",
    "silhouette_scores.append(silhouette_score(X_principal, ac4.fit_predict(X_principal)))\n",
    "silhouette_scores.append(silhouette_score(X_principal, ac5.fit_predict(X_principal)))\n",
    "silhouette_scores.append(silhouette_score(X_principal, ac6.fit_predict(X_principal)))\n",
    "print(silhouette_scores)"
   ]
  },
  {
   "cell_type": "code",
   "execution_count": null,
   "id": "28f208bf-19b4-4e86-90bf-e3c580a123d4",
   "metadata": {},
   "outputs": [],
   "source": [
    "# Plotting a bar graph to compare the results\n",
    "plt.bar(k,silhouette_scores)\n",
    "plt.xlabel('Number of Clusters', fontsize = 20)\n",
    "plt.ylabel('S(i)',fontsize = 20)\n",
    "plt.show()"
   ]
  },
  {
   "cell_type": "code",
   "execution_count": null,
   "id": "72bcf91a-2b01-4f51-b83e-fdd8d06c3933",
   "metadata": {},
   "outputs": [],
   "source": []
  },
  {
   "cell_type": "code",
   "execution_count": null,
   "id": "595f671e-a92e-450c-a565-246918f77722",
   "metadata": {},
   "outputs": [],
   "source": []
  },
  {
   "cell_type": "code",
   "execution_count": null,
   "id": "f94b2775-265e-4563-b4b7-e88158ef896b",
   "metadata": {},
   "outputs": [],
   "source": []
  },
  {
   "cell_type": "code",
   "execution_count": null,
   "id": "72c630ac-9c14-448f-9c4b-1536cdd8e639",
   "metadata": {},
   "outputs": [],
   "source": []
  },
  {
   "cell_type": "code",
   "execution_count": null,
   "id": "523dbe67-73cc-49a7-b053-0cabebde4a5f",
   "metadata": {},
   "outputs": [],
   "source": []
  },
  {
   "cell_type": "code",
   "execution_count": null,
   "id": "85027201-c913-4d8d-87ad-7643b4505bbd",
   "metadata": {},
   "outputs": [],
   "source": []
  },
  {
   "cell_type": "code",
   "execution_count": null,
   "id": "e8b8cbae-3454-4a0c-b75f-01ed4c706466",
   "metadata": {},
   "outputs": [],
   "source": []
  },
  {
   "cell_type": "code",
   "execution_count": null,
   "id": "f4f545bb-a670-4426-a79f-d5d9dd3bfcb8",
   "metadata": {},
   "outputs": [],
   "source": []
  },
  {
   "cell_type": "code",
   "execution_count": null,
   "id": "0e4d31b5-8d79-47c2-ab66-277939e21622",
   "metadata": {},
   "outputs": [],
   "source": []
  },
  {
   "cell_type": "code",
   "execution_count": null,
   "id": "41bfc78e-0284-46ba-a952-f7443eec0a85",
   "metadata": {},
   "outputs": [],
   "source": []
  },
  {
   "cell_type": "code",
   "execution_count": null,
   "id": "e92595e5-aef3-479b-bebe-7bc5b5752c01",
   "metadata": {},
   "outputs": [],
   "source": []
  },
  {
   "cell_type": "code",
   "execution_count": null,
   "id": "e458e29e-98a5-4d16-a2a3-9c3eaba11fe9",
   "metadata": {},
   "outputs": [],
   "source": []
  },
  {
   "cell_type": "code",
   "execution_count": null,
   "id": "8f0d4a18-a239-4fe4-9cda-ab842f9b4362",
   "metadata": {},
   "outputs": [],
   "source": []
  },
  {
   "cell_type": "code",
   "execution_count": null,
   "id": "5cdef44b-3991-4125-b9c4-e89ccca024ca",
   "metadata": {},
   "outputs": [],
   "source": []
  }
 ],
 "metadata": {
  "kernelspec": {
   "display_name": "Python 3 (ipykernel)",
   "language": "python",
   "name": "python3"
  },
  "language_info": {
   "codemirror_mode": {
    "name": "ipython",
    "version": 3
   },
   "file_extension": ".py",
   "mimetype": "text/x-python",
   "name": "python",
   "nbconvert_exporter": "python",
   "pygments_lexer": "ipython3",
   "version": "3.12.4"
  }
 },
 "nbformat": 4,
 "nbformat_minor": 5
}
