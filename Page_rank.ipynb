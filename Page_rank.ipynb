{
 "cells": [
  {
   "cell_type": "code",
   "execution_count": 1,
   "id": "fc7631fc-dc0c-4c45-aba4-15313edc3e7d",
   "metadata": {},
   "outputs": [],
   "source": [
    "import networkx as nx\n",
    "def calculate_pagerank(graph, alpha=0.85, max_iter=100, tol=1.0e-6):\n",
    " return nx.pagerank(graph, alpha=alpha, max_iter=max_iter, tol=tol)"
   ]
  },
  {
   "cell_type": "code",
   "execution_count": 3,
   "id": "baea78a3-9cf4-4c0b-9548-b13c992a42e8",
   "metadata": {},
   "outputs": [],
   "source": [
    "# Create a graph\n",
    "G = nx.DiGraph()"
   ]
  },
  {
   "cell_type": "code",
   "execution_count": 5,
   "id": "d4240dc6-16c2-471d-a226-22c1d48ad62d",
   "metadata": {},
   "outputs": [],
   "source": [
    "# Add nodes\n",
    "nodes = ['A', 'B', 'C', 'D', 'E', 'F']\n",
    "G.add_nodes_from(nodes)"
   ]
  },
  {
   "cell_type": "code",
   "execution_count": 7,
   "id": "a6039f34-f542-4ac5-a200-554f8568ed66",
   "metadata": {},
   "outputs": [],
   "source": [
    "# Add edges\n",
    "edges = [\n",
    " ('A', 'B'), ('B', 'A'), ('A', 'C'), ('B', 'C'),\n",
    " ('C', 'A'), ('C', 'B'), ('D', 'A'), ('D', 'C'),\n",
    " ('E', 'C'), ('E', 'D'), ('F', 'C'), ('F', 'E')\n",
    "]\n",
    "G.add_edges_from(edges)"
   ]
  },
  {
   "cell_type": "code",
   "execution_count": 9,
   "id": "437482cb-a758-43bb-8ecb-cc2b3dd85647",
   "metadata": {},
   "outputs": [],
   "source": [
    "# Calculate PageRank\n",
    "pagerank = calculate_pagerank(G)"
   ]
  },
  {
   "cell_type": "code",
   "execution_count": 11,
   "id": "1a6c8954-0001-4559-8fa0-78a4d441a80c",
   "metadata": {},
   "outputs": [
    {
     "name": "stdout",
     "output_type": "stream",
     "text": [
      "PageRank: {'A': 0.2977083333333335, 'B': 0.28573617044503086, 'C': 0.31578987122163615, 'D': 0.040140625, 'E': 0.035625000000000004, 'F': 0.025}\n"
     ]
    }
   ],
   "source": [
    "# Print the PageRank values\n",
    "print(\"PageRank:\", pagerank)"
   ]
  }
 ],
 "metadata": {
  "kernelspec": {
   "display_name": "Python 3 (ipykernel)",
   "language": "python",
   "name": "python3"
  },
  "language_info": {
   "codemirror_mode": {
    "name": "ipython",
    "version": 3
   },
   "file_extension": ".py",
   "mimetype": "text/x-python",
   "name": "python",
   "nbconvert_exporter": "python",
   "pygments_lexer": "ipython3",
   "version": "3.12.4"
  }
 },
 "nbformat": 4,
 "nbformat_minor": 5
}
