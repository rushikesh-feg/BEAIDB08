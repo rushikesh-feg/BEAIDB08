{
 "cells": [
  {
   "cell_type": "code",
   "execution_count": 1,
   "id": "f48d3d37-3b41-471e-8f06-9273454fee8e",
   "metadata": {},
   "outputs": [],
   "source": [
    "from collections import defaultdict"
   ]
  },
  {
   "cell_type": "code",
   "execution_count": 3,
   "id": "791fef63-ab3e-43c7-9b1e-bab5e37d2bbd",
   "metadata": {},
   "outputs": [],
   "source": [
    "def preprocess(text):\n",
    " tokens = text.lower().split() # Simple tokenization and lowercasing\n",
    " return tokens"
   ]
  },
  {
   "cell_type": "code",
   "execution_count": 7,
   "id": "69f15426-10c9-4c0b-af1c-c33845f6dc4c",
   "metadata": {},
   "outputs": [],
   "source": [
    "# Build an inverted index\n",
    "def build_inverted_index(documents):\n",
    " inverted_index = defaultdict(list)\n",
    " for doc_id, text in enumerate(documents):\n",
    "     words = preprocess(text)\n",
    "     for word in words:\n",
    "         if doc_id not in inverted_index[word]:\n",
    "             inverted_index[word].append(doc_id)\n",
    "             \n",
    " return inverted_index"
   ]
  },
  {
   "cell_type": "code",
   "execution_count": 11,
   "id": "b196ea17-305d-4c70-80c1-4cf8c5b2ac6b",
   "metadata": {},
   "outputs": [],
   "source": [
    "# Retrieve documents based on a query\n",
    "def retrieve_documents(query, inverted_index):\n",
    "    query_words = preprocess(query)\n",
    "    relevant_docs = set()\n",
    "    for word in query_words:\n",
    "        if word in inverted_index:\n",
    "           relevant_docs.update(inverted_index[word])\n",
    "    \n",
    "    return relevant_docs\n"
   ]
  },
  {
   "cell_type": "code",
   "execution_count": 13,
   "id": "e6b6fc7f-0f5f-449b-ac5d-69ed5bf422ab",
   "metadata": {},
   "outputs": [],
   "source": [
    "# Example usage\n",
    "documents = [\n",
    " \"The quick brown fox jumps over the lazy dog\",\n",
    " \"The dog is lazy but the fox is quick\",\n",
    " \"Brown fox, brown dog, who is quick?\",\n",
    "]\n"
   ]
  },
  {
   "cell_type": "code",
   "execution_count": 15,
   "id": "b5c51c58-8eea-46b1-ad72-20320722547e",
   "metadata": {},
   "outputs": [],
   "source": [
    "# Build the inverted index\n",
    "inverted_index = build_inverted_index(documents)"
   ]
  },
  {
   "cell_type": "code",
   "execution_count": 17,
   "id": "08c7fe8f-c274-45e9-ac4d-885826aa0b49",
   "metadata": {},
   "outputs": [
    {
     "name": "stdout",
     "output_type": "stream",
     "text": [
      "Inverted Index: {'the': [0, 1], 'quick': [0, 1], 'brown': [0, 2], 'fox': [0, 1], 'jumps': [0], 'over': [0], 'lazy': [0, 1], 'dog': [0, 1], 'is': [1, 2], 'but': [1], 'fox,': [2], 'dog,': [2], 'who': [2], 'quick?': [2]}\n"
     ]
    }
   ],
   "source": [
    "# Print the inverted index for reference\n",
    "print(\"Inverted Index:\", dict(inverted_index))"
   ]
  },
  {
   "cell_type": "code",
   "execution_count": 19,
   "id": "cb2f0795-e521-4aa8-a7a6-ea30e766775c",
   "metadata": {},
   "outputs": [],
   "source": [
    "# Query for document retrieval\n",
    "query = \"quick brown\"\n",
    "relevant_docs = retrieve_documents(query, inverted_index)"
   ]
  },
  {
   "cell_type": "code",
   "execution_count": 21,
   "id": "cb3cff17-07cf-4674-9ff5-adcd776bc435",
   "metadata": {},
   "outputs": [
    {
     "name": "stdout",
     "output_type": "stream",
     "text": [
      "Documents relevant to the query 'quick brown': {0, 1, 2}\n"
     ]
    }
   ],
   "source": [
    "# Output the relevant document IDs\n",
    "print(f\"Documents relevant to the query '{query}':\", relevant_docs)"
   ]
  }
 ],
 "metadata": {
  "kernelspec": {
   "display_name": "Python 3 (ipykernel)",
   "language": "python",
   "name": "python3"
  },
  "language_info": {
   "codemirror_mode": {
    "name": "ipython",
    "version": 3
   },
   "file_extension": ".py",
   "mimetype": "text/x-python",
   "name": "python",
   "nbconvert_exporter": "python",
   "pygments_lexer": "ipython3",
   "version": "3.12.4"
  }
 },
 "nbformat": 4,
 "nbformat_minor": 5
}
