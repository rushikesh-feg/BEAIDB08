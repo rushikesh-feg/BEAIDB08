{
 "cells": [
  {
   "cell_type": "code",
   "execution_count": 1,
   "id": "0edc768e-952e-45d9-8045-3a02d7720497",
   "metadata": {},
   "outputs": [],
   "source": [
    "import nltk\n",
    "from nltk.corpus import stopwords\n",
    "from nltk.tokenize import word_tokenize\n",
    "from nltk.stem import PorterStemmer"
   ]
  },
  {
   "cell_type": "code",
   "execution_count": 3,
   "id": "f6c59702-e261-4725-9120-4b8d31e5560d",
   "metadata": {},
   "outputs": [
    {
     "name": "stderr",
     "output_type": "stream",
     "text": [
      "[nltk_data] Downloading package punkt to\n",
      "[nltk_data]     C:\\Users\\Asus\\AppData\\Roaming\\nltk_data...\n",
      "[nltk_data]   Package punkt is already up-to-date!\n",
      "[nltk_data] Downloading package stopwords to\n",
      "[nltk_data]     C:\\Users\\Asus\\AppData\\Roaming\\nltk_data...\n",
      "[nltk_data]   Package stopwords is already up-to-date!\n"
     ]
    },
    {
     "data": {
      "text/plain": [
       "True"
      ]
     },
     "execution_count": 3,
     "metadata": {},
     "output_type": "execute_result"
    }
   ],
   "source": [
    "# Download the required NLTK datasets\n",
    "nltk.download('punkt')\n",
    "nltk.download('stopwords')"
   ]
  },
  {
   "cell_type": "code",
   "execution_count": 23,
   "id": "ff89a859-526b-45e8-ad2c-c81ef5277f3f",
   "metadata": {},
   "outputs": [],
   "source": [
    "# Function for text preprocessing\n",
    "def preprocess_text(text):\n",
    " # Tokenize the text\n",
    "    tokens = word_tokenize(text)\n",
    "    # Convert to lowercase\n",
    "    tokens = [token.lower() for token in tokens]\n",
    "    # Remove punctuation and non-alphabetic tokens\n",
    "    words = [word for word in tokens if word.isalpha()]\n",
    "    # Remove stopwords\n",
    "    stop_words = set(stopwords.words('english'))\n",
    "    words = [word for word in words if word not in stop_words]\n",
    "    # Stemming using Porter Stemmer\n",
    "    ps = PorterStemmer()\n",
    "    stemmed_words = [ps.stem(word) for word in words]\n",
    "    return stemmed_words\n"
   ]
  },
  {
   "cell_type": "code",
   "execution_count": 27,
   "id": "6dbcda47-6972-4f40-85a2-74cb7e62eb62",
   "metadata": {},
   "outputs": [],
   "source": [
    "text = \"This is a sample document. We will remove stop words and apply stemming to the words in this document.\"\n"
   ]
  },
  {
   "cell_type": "code",
   "execution_count": 29,
   "id": "9a3e54d4-746c-463f-b49b-54b21203ebaa",
   "metadata": {},
   "outputs": [],
   "source": [
    "processed_text = preprocess_text(text)"
   ]
  },
  {
   "cell_type": "code",
   "execution_count": 31,
   "id": "39fa783c-be58-4fbd-9d06-8e5c5eca54ac",
   "metadata": {},
   "outputs": [
    {
     "name": "stdout",
     "output_type": "stream",
     "text": [
      "Processed Text: ['sampl', 'document', 'remov', 'stop', 'word', 'appli', 'stem', 'word', 'document']\n"
     ]
    }
   ],
   "source": [
    "print(\"Processed Text:\", processed_text)"
   ]
  }
 ],
 "metadata": {
  "kernelspec": {
   "display_name": "Python 3 (ipykernel)",
   "language": "python",
   "name": "python3"
  },
  "language_info": {
   "codemirror_mode": {
    "name": "ipython",
    "version": 3
   },
   "file_extension": ".py",
   "mimetype": "text/x-python",
   "name": "python",
   "nbconvert_exporter": "python",
   "pygments_lexer": "ipython3",
   "version": "3.12.4"
  }
 },
 "nbformat": 4,
 "nbformat_minor": 5
}
