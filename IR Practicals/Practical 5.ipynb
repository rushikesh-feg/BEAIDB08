{
 "cells": [
  {
   "cell_type": "markdown",
   "id": "4a576679",
   "metadata": {},
   "source": [
    "### Method 1"
   ]
  },
  {
   "cell_type": "code",
   "execution_count": 9,
   "id": "da26edc0",
   "metadata": {},
   "outputs": [],
   "source": [
    "# Define a simple web structure (graph) as a dictionary\n",
    "web_graph = {\n",
    "    \"A\": [\"B\", \"C\", \"F\"],\n",
    "    \"B\": [\"A\", \"E\"],\n",
    "    \"C\": [\"A\", \"B\"],\n",
    "    \"D\": [\"A\", \"B\", \"C\"],\n",
    "    \"E\": [\"B\", \"C\", \"D\"],\n",
    "    \"F\": [\"A\", \"B\", \"D\", \"E\"]\n",
    "}\n"
   ]
  },
  {
   "cell_type": "code",
   "execution_count": 10,
   "id": "8207517b",
   "metadata": {},
   "outputs": [],
   "source": [
    "# Parameters\n",
    "damping_factor = 0.85  # Probability of following links\n",
    "tolerance = 1e-6  # Convergence threshold\n",
    "max_iterations = 100  # To prevent infinite loops\n"
   ]
  },
  {
   "cell_type": "code",
   "execution_count": 11,
   "id": "e9e9acfe",
   "metadata": {},
   "outputs": [],
   "source": [
    "# Number of pages\n",
    "num_pages = len(web_graph)\n",
    "# Initialize PageRank to 1/N for each page\n",
    "page_rank = {page: 1 / num_pages for page in web_graph}\n"
   ]
  },
  {
   "cell_type": "code",
   "execution_count": 12,
   "id": "241fd4f4",
   "metadata": {},
   "outputs": [
    {
     "name": "stdout",
     "output_type": "stream",
     "text": [
      "PageRank converged after 14 iterations.\n",
      "Final PageRank values:\n",
      "A: 0.2473\n",
      "B: 0.2531\n",
      "C: 0.1634\n",
      "D: 0.0885\n",
      "E: 0.1527\n",
      "F: 0.0951\n"
     ]
    }
   ],
   "source": [
    "for i in range(max_iterations):\n",
    "    # Create a new dictionary to store updated PageRank values\n",
    "    new_page_rank = {}\n",
    "    for page in web_graph:\n",
    "        # Base rank from the damping factor for each page\n",
    "        rank_sum = (1 - damping_factor) / num_pages\n",
    "        \n",
    "        # Add contributions from incoming links\n",
    "        for other_page in web_graph:\n",
    "            if page in web_graph[other_page]:  # If there is a link to `page`\n",
    "                rank_sum += (damping_factor * page_rank[other_page]) / len(web_graph[other_page])\n",
    "        \n",
    "        # Update the new PageRank value for the page\n",
    "        new_page_rank[page] = rank_sum\n",
    "    \n",
    "    # Check for convergence by comparing old and new ranks\n",
    "    if all(abs(new_page_rank[page] - page_rank[page]) < tolerance for page in page_rank):\n",
    "        print(f\"PageRank converged after {i + 1} iterations.\")\n",
    "        break\n",
    "    \n",
    "    # Update PageRank values for the next iteration\n",
    "    page_rank = new_page_rank\n",
    "\n",
    "# Print the final PageRank values\n",
    "print(\"Final PageRank values:\")\n",
    "for page, rank in page_rank.items():\n",
    "    print(f\"{page}: {rank:.4f}\")\n"
   ]
  },
  {
   "cell_type": "markdown",
   "id": "4fb1bd8e",
   "metadata": {},
   "source": [
    "### Method 2"
   ]
  },
  {
   "cell_type": "code",
   "execution_count": 6,
   "id": "43d99565",
   "metadata": {},
   "outputs": [
    {
     "name": "stdout",
     "output_type": "stream",
     "text": [
      "PageRank: {'A': 0.2977083333333335, 'B': 0.28573617044503086, 'C': 0.31578987122163615, 'D': 0.040140625, 'E': 0.035625000000000004, 'F': 0.025}\n"
     ]
    }
   ],
   "source": [
    "import networkx as nx\n",
    "def calculate_pagerank(graph, alpha=0.85, max_iter=100, tol=1.0e-6):\n",
    " return nx.pagerank(graph, alpha=alpha, max_iter=max_iter, tol=tol)\n",
    "# Create a graph\n",
    "G = nx.DiGraph()\n",
    "# Add nodes\n",
    "nodes = ['A', 'B', 'C', 'D', 'E', 'F']\n",
    "G.add_nodes_from(nodes)\n",
    "# Add edges\n",
    "edges = [\n",
    " ('A', 'B'), ('B', 'A'), ('A', 'C'), ('B', 'C'),\n",
    " ('C', 'A'), ('C', 'B'), ('D', 'A'), ('D', 'C'),\n",
    " ('E', 'C'), ('E', 'D'), ('F', 'C'), ('F', 'E')\n",
    "]\n",
    "G.add_edges_from(edges)\n",
    "# Calculate PageRank\n",
    "pagerank = calculate_pagerank(G)\n",
    "# Print the PageRank values\n",
    "print(\"PageRank:\", pagerank)"
   ]
  },
  {
   "cell_type": "code",
   "execution_count": null,
   "id": "00a54e67",
   "metadata": {},
   "outputs": [],
   "source": []
  }
 ],
 "metadata": {
  "kernelspec": {
   "display_name": "Python 3 (ipykernel)",
   "language": "python",
   "name": "python3"
  },
  "language_info": {
   "codemirror_mode": {
    "name": "ipython",
    "version": 3
   },
   "file_extension": ".py",
   "mimetype": "text/x-python",
   "name": "python",
   "nbconvert_exporter": "python",
   "pygments_lexer": "ipython3",
   "version": "3.9.19"
  }
 },
 "nbformat": 4,
 "nbformat_minor": 5
}
